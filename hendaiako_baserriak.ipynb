{
  "nbformat": 4,
  "nbformat_minor": 0,
  "metadata": {
    "colab": {
      "provenance": [],
      "include_colab_link": true
    },
    "kernelspec": {
      "name": "python3",
      "display_name": "Python 3"
    },
    "language_info": {
      "name": "python"
    }
  },
  "cells": [
    {
      "cell_type": "markdown",
      "metadata": {
        "id": "view-in-github",
        "colab_type": "text"
      },
      "source": [
        "<a href=\"https://colab.research.google.com/github/Umapak/hendaiako_baserriak/blob/gh_viewers/hendaiako_baserriak.ipynb\" target=\"_parent\"><img src=\"https://colab.research.google.com/assets/colab-badge.svg\" alt=\"Open In Colab\"/></a>"
      ]
    },
    {
      "cell_type": "markdown",
      "source": [
        "# Baserri_zerrendakeko datuak eta Python+Foliumekin egiten da mapa hemen "
      ],
      "metadata": {
        "id": "VBl0iaADRfO2"
      }
    },
    {
      "cell_type": "code",
      "execution_count": 1,
      "metadata": {
        "id": "m5HQHQk5XR0Q"
      },
      "outputs": [],
      "source": [
        "%%capture\n",
        "!pip install --upgrade gspread\n",
        "!apt install libspatialindex-dev\n",
        "!pip install rtree\n",
        "!pip install geopandas"
      ]
    },
    {
      "cell_type": "code",
      "source": [
        "#@title Google drive-n dagoen 'baserri_zerrendak'-etik datuak zuzenean hartu\n",
        "from google.colab import auth\n",
        "auth.authenticate_user()\n",
        "\n",
        "import gspread\n",
        "from google.auth import default\n",
        "creds, _ = default()\n",
        "\n",
        "gc = gspread.authorize(creds)\n",
        "# hemen zehaztu behar da zein den google drive-n eman zaion izena\n",
        "worksheet = gc.open('baserri_zerrendak').sheet1\n",
        "\n",
        "# get_all_values gives a list of rows.\n",
        "rows = worksheet.get_all_values()\n",
        "#print(rows)\n",
        "\n",
        "# datu sorta guztia taula erabilgarri formatura pasako du eta campo bakoitzaren izena jarriko du.\n",
        "import pandas as pd\n",
        "import geopandas as gpd\n",
        "baserriak = pd.DataFrame.from_records(rows)\n",
        "baserriak.columns = baserriak.iloc[0]\n",
        "baserriak = baserriak.iloc[1: , :]"
      ],
      "metadata": {
        "id": "k6O5FevUa8Ky"
      },
      "execution_count": 2,
      "outputs": []
    },
    {
      "cell_type": "code",
      "source": [
        "#@title Datuok aztertu eta txukundu\n",
        "baserriak[['google_maps','izena']] = baserriak[['google_maps', 'izena']].astype('string')\n",
        "baserriak['zenbakia'] = baserriak['zenbakia'].astype(str).astype(int)"
      ],
      "metadata": {
        "id": "apWQIpnbs88C"
      },
      "execution_count": 3,
      "outputs": []
    },
    {
      "cell_type": "code",
      "source": [
        "baserriak.info()"
      ],
      "metadata": {
        "colab": {
          "base_uri": "https://localhost:8080/"
        },
        "id": "vSjHildnAXn-",
        "outputId": "b0aa23e6-34cd-4671-9d2e-2ea004464217"
      },
      "execution_count": 4,
      "outputs": [
        {
          "output_type": "stream",
          "name": "stdout",
          "text": [
            "<class 'pandas.core.frame.DataFrame'>\n",
            "RangeIndex: 82 entries, 1 to 82\n",
            "Data columns (total 14 columns):\n",
            " #   Column           Non-Null Count  Dtype \n",
            "---  ------           --------------  ----- \n",
            " 0   zenbakia         82 non-null     int64 \n",
            " 1   kontrola         82 non-null     object\n",
            " 2   izena            82 non-null     string\n",
            " 3   google_maps      82 non-null     string\n",
            " 4   auzoa            82 non-null     object\n",
            " 5   zonaldea         82 non-null     object\n",
            " 6   en_mapa          82 non-null     object\n",
            " 7   duda             82 non-null     object\n",
            " 8   adresse_postale  82 non-null     object\n",
            " 9   usage            82 non-null     object\n",
            " 10  etat             82 non-null     object\n",
            " 11  usage2           82 non-null     object\n",
            " 12  lehen_data       82 non-null     object\n",
            " 13  beste            82 non-null     object\n",
            "dtypes: int64(1), object(11), string(2)\n",
            "memory usage: 9.1+ KB\n"
          ]
        }
      ]
    },
    {
      "cell_type": "markdown",
      "source": [
        "irakurri berri duen zerrendako datuen tipologiak ikusi eta behar diren formatu informatikoetara itzuliko ditu"
      ],
      "metadata": {
        "id": "UGHxcfmdcFi6"
      }
    },
    {
      "cell_type": "code",
      "source": [
        "#%%capture\n",
        "df = baserriak[baserriak['google_maps'].str.contains(',', na=False)]\n",
        "#print(str(len(baserriak.index)) + \" baserrietatik \" + str(len(df.index)) + \" dira ongi lokalizatuak\")\n",
        "# \"loc\" koordenatuen zatiketa bi partetan\n",
        "df[['google_maps','lon']] = df['google_maps'].str.split(', ',expand=True)\n",
        "# \"loc\" zena orain berrizendu eta \"lat\" (latitudea) deituko dut\n",
        "df['lat']  = df['google_maps']\n",
        "df = df.drop(['kontrola','en_mapa','beste','duda'], axis=1)\n",
        "df['lat'] = pd.to_numeric(df['lat'], errors='coerce')\n",
        "df['lon'] = pd.to_numeric(df['lon'], errors='coerce')\n",
        "df = df.dropna(subset=['lat', 'lon'])\n",
        "df.info()"
      ],
      "metadata": {
        "id": "jUXMHfZzZzGm",
        "colab": {
          "base_uri": "https://localhost:8080/"
        },
        "outputId": "3574c8b2-1cbb-4929-8a7c-9e9987fef73b"
      },
      "execution_count": 5,
      "outputs": [
        {
          "output_type": "stream",
          "name": "stdout",
          "text": [
            "<class 'pandas.core.frame.DataFrame'>\n",
            "Int64Index: 19 entries, 1 to 82\n",
            "Data columns (total 12 columns):\n",
            " #   Column           Non-Null Count  Dtype  \n",
            "---  ------           --------------  -----  \n",
            " 0   zenbakia         19 non-null     int64  \n",
            " 1   izena            19 non-null     string \n",
            " 2   google_maps      19 non-null     string \n",
            " 3   auzoa            19 non-null     object \n",
            " 4   zonaldea         19 non-null     object \n",
            " 5   adresse_postale  19 non-null     object \n",
            " 6   usage            19 non-null     object \n",
            " 7   etat             19 non-null     object \n",
            " 8   usage2           19 non-null     object \n",
            " 9   lehen_data       19 non-null     object \n",
            " 10  lon              19 non-null     float64\n",
            " 11  lat              19 non-null     float64\n",
            "dtypes: float64(2), int64(1), object(7), string(2)\n",
            "memory usage: 1.9+ KB\n"
          ]
        },
        {
          "output_type": "stream",
          "name": "stderr",
          "text": [
            "/usr/local/lib/python3.8/dist-packages/pandas/core/frame.py:3641: SettingWithCopyWarning: \n",
            "A value is trying to be set on a copy of a slice from a DataFrame.\n",
            "Try using .loc[row_indexer,col_indexer] = value instead\n",
            "\n",
            "See the caveats in the documentation: https://pandas.pydata.org/pandas-docs/stable/user_guide/indexing.html#returning-a-view-versus-a-copy\n",
            "  self[k1] = value[k2]\n",
            "<ipython-input-5-03dc75c41c02>:7: SettingWithCopyWarning: \n",
            "A value is trying to be set on a copy of a slice from a DataFrame.\n",
            "Try using .loc[row_indexer,col_indexer] = value instead\n",
            "\n",
            "See the caveats in the documentation: https://pandas.pydata.org/pandas-docs/stable/user_guide/indexing.html#returning-a-view-versus-a-copy\n",
            "  df['lat']  = df['google_maps']\n"
          ]
        }
      ]
    },
    {
      "cell_type": "markdown",
      "source": [
        "Geografi datuen solasa hasten da orain: mapeatzeko formato erabilgarrira pasatzen dira datuak,  sistema informatikoek uler diztaketen koordenatuak lortuz"
      ],
      "metadata": {
        "id": "BdQCagMLc1sL"
      }
    },
    {
      "cell_type": "code",
      "source": [
        "from shapely.geometry import Point\n",
        "df.loc[:, 'geometry'] = df.apply(lambda x: Point((float(x.lon), float(x.lat))), axis=1)"
      ],
      "metadata": {
        "id": "zf9VsQ5LBdGr"
      },
      "execution_count": 6,
      "outputs": []
    },
    {
      "cell_type": "code",
      "source": [
        "gdf = gpd.GeoDataFrame(df, geometry='geometry')\n",
        "gdf.crs = {'init': 'epsg:4326'}\n",
        "print(gdf.columns)"
      ],
      "metadata": {
        "colab": {
          "base_uri": "https://localhost:8080/"
        },
        "id": "Ivs2qO1TGEhY",
        "outputId": "6062b103-dbf8-46da-e2dd-d1f4c04e0597"
      },
      "execution_count": 7,
      "outputs": [
        {
          "output_type": "stream",
          "name": "stdout",
          "text": [
            "Index(['zenbakia', 'izena', 'google_maps', 'auzoa', 'zonaldea',\n",
            "       'adresse_postale', 'usage', 'etat', 'usage2', 'lehen_data', 'lon',\n",
            "       'lat', 'geometry'],\n",
            "      dtype='object', name=0)\n"
          ]
        },
        {
          "output_type": "stream",
          "name": "stderr",
          "text": [
            "/usr/local/lib/python3.8/dist-packages/pyproj/crs/crs.py:141: FutureWarning: '+init=<authority>:<code>' syntax is deprecated. '<authority>:<code>' is the preferred initialization method. When making the change, be mindful of axis order changes: https://pyproj4.github.io/pyproj/stable/gotchas.html#axis-order-changes-in-proj-6\n",
            "  in_crs_string = _prepare_from_proj_string(in_crs_string)\n"
          ]
        }
      ]
    },
    {
      "cell_type": "markdown",
      "source": [
        "Azken atal honek \"sukaldatuak\" dauden datuak hartu eta nahi bezala jarriko ditu mapa batean"
      ],
      "metadata": {
        "id": "gv6lftzGkuYh"
      }
    },
    {
      "cell_type": "code",
      "source": [
        "import folium\n",
        "#extraer vértices de marco\n",
        "sw = gdf[['lat', 'lon']].min().values.tolist()\n",
        "ne = gdf[['lat', 'lon']].max().values.tolist()\n",
        "#determinar el fondo\n",
        "tileado_name = \"Stamen Terrain\" #@param [\"Stamen Toner\", \"Stamen Terrain\", \"OpenStreetMap\", \"Cartodbdark_matter\"]\n",
        "#crear el mapa con el fondo elegido\n",
        "m = folium.Map(tiles=tileado_name)\n",
        "#poner el marco\n",
        "m.fit_bounds([sw, ne])"
      ],
      "metadata": {
        "id": "GLgc-CheKFnV"
      },
      "execution_count": 8,
      "outputs": []
    },
    {
      "cell_type": "code",
      "source": [
        "from folium import plugins\n",
        "minimap = plugins.MiniMap()\n",
        "m.add_child(minimap)"
      ],
      "metadata": {
        "id": "AwdlPX7H9zWd"
      },
      "execution_count": null,
      "outputs": []
    },
    {
      "cell_type": "code",
      "source": [
        "#Baserri puntuak kargatu eta etiketak prestatu\n",
        "for row in gdf.itertuples():\n",
        "    folium.Marker([row.geometry.y, row.geometry.x],\n",
        "                  icon=folium.Icon(\n",
        "                      color='red', \n",
        "                      icon_color='white', \n",
        "                      icon='home', \n",
        "                      angle=0\n",
        "                      ),\n",
        "                  popup = folium.Popup(\n",
        "                      \"id <b>{}</b> <br><b>{}</b> <br>data: <b>{}</b><br>auzoa {} <br>zonaldea {} <br>adresse_postale {} <br>usage {} <br>etat {}<br> {}\"\n",
        "                      .format(\n",
        "                          row.zenbakia, row.izena, row.lehen_data, row.auzoa, row.zonaldea,\n",
        "                          row.adresse_postale, row.usage, row.etat, row.usage2))).add_to(m)"
      ],
      "metadata": {
        "id": "h_WAmSgR86kj"
      },
      "execution_count": 10,
      "outputs": []
    },
    {
      "cell_type": "markdown",
      "source": [
        "# Mapa ikusteko, *baserrimapa* hitzaren ezkerrean dagoen ▶ botoiari eman"
      ],
      "metadata": {
        "id": "k_MJJTADr4LD"
      }
    },
    {
      "cell_type": "code",
      "source": [
        "from google.colab import drive\n",
        "drive.mount('/content/drive')\n",
        "m.save(\"/content/drive/My Drive/Proyectos/lmelosegi/index.html\")"
      ],
      "metadata": {
        "colab": {
          "base_uri": "https://localhost:8080/"
        },
        "id": "D_x3UKKTsCmG",
        "outputId": "55b28c26-38e9-4f95-8a48-bc7d66bd2410"
      },
      "execution_count": 11,
      "outputs": [
        {
          "output_type": "stream",
          "name": "stdout",
          "text": [
            "Drive already mounted at /content/drive; to attempt to forcibly remount, call drive.mount(\"/content/drive\", force_remount=True).\n"
          ]
        }
      ]
    }
  ]
}